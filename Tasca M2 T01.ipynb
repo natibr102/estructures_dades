{
 "cells": [
  {
   "cell_type": "markdown",
   "id": "d2bf7209",
   "metadata": {},
   "source": [
    "## - Exercici 1\n",
    "Crea una llista que agrupi els mesos de l’any en trimestres (1T: gener, febrer i març; 2T: abril, maig, juny...), és a dir, una llista amb 4 llistes dins."
   ]
  },
  {
   "cell_type": "code",
   "execution_count": 1,
   "id": "e0ec5af6",
   "metadata": {
    "scrolled": true
   },
   "outputs": [
    {
     "name": "stdout",
     "output_type": "stream",
     "text": [
      "[['enero', 'febrero', 'marzo'], ['abril', 'mayo', 'junio'], ['julio', 'agosto', 'septiembre'], ['octubre', 'noviembre', 'diciembre']]\n"
     ]
    }
   ],
   "source": [
    "trimestres=[[\"enero\",\"febrero\",\"marzo\"],[\"abril\",\"mayo\",\"junio\"],[\"julio\",\"agosto\",\"septiembre\"],[\"octubre\",\"noviembre\",\"diciembre\"]]\n",
    "print (trimestres)"
   ]
  },
  {
   "cell_type": "markdown",
   "id": "ca1ae2c1",
   "metadata": {},
   "source": [
    "## - Exercici 2\n",
    "Crea un codi que et permeti accedir a:"
   ]
  },
  {
   "cell_type": "markdown",
   "id": "9a22ed85",
   "metadata": {},
   "source": [
    "##### -El segon mes del primer trimestre."
   ]
  },
  {
   "cell_type": "code",
   "execution_count": 2,
   "id": "49592258",
   "metadata": {
    "scrolled": true
   },
   "outputs": [
    {
     "name": "stdout",
     "output_type": "stream",
     "text": [
      "febrero\n"
     ]
    }
   ],
   "source": [
    "print(trimestres[0][1])"
   ]
  },
  {
   "cell_type": "markdown",
   "id": "8425178f",
   "metadata": {},
   "source": [
    "##### -Els mesos del primer trimestre.\n"
   ]
  },
  {
   "cell_type": "code",
   "execution_count": 3,
   "id": "333440ff",
   "metadata": {},
   "outputs": [
    {
     "name": "stdout",
     "output_type": "stream",
     "text": [
      "['enero', 'febrero', 'marzo']\n"
     ]
    }
   ],
   "source": [
    "print(trimestres[0])"
   ]
  },
  {
   "cell_type": "markdown",
   "id": "a7ac19dc",
   "metadata": {},
   "source": [
    "##### -Setembre i octubre."
   ]
  },
  {
   "cell_type": "code",
   "execution_count": 4,
   "id": "171b9bf5",
   "metadata": {},
   "outputs": [
    {
     "name": "stdout",
     "output_type": "stream",
     "text": [
      "septiembre i octubre\n"
     ]
    }
   ],
   "source": [
    "print ((trimestres[2][2]) + \" i \" + (trimestres[3][0]))"
   ]
  },
  {
   "cell_type": "markdown",
   "id": "f2eb5345",
   "metadata": {},
   "source": [
    "## - Exercici 3\n",
    "Crea una llista amb nombres desordenats i respon a les següents preguntes:\n"
   ]
  },
  {
   "cell_type": "code",
   "execution_count": 5,
   "id": "6c0312f5",
   "metadata": {},
   "outputs": [],
   "source": [
    "mylist = [2,4,2,2,6,7,3,8,0,4,4,1,7,8,2,3,9,8,6,12,6,7]\n"
   ]
  },
  {
   "cell_type": "code",
   "execution_count": 6,
   "id": "24e0d79d",
   "metadata": {},
   "outputs": [
    {
     "name": "stdout",
     "output_type": "stream",
     "text": [
      "En la lista hay 22 números.\n"
     ]
    }
   ],
   "source": [
    "#Quants números hi ha?\n",
    "print('En la lista hay',len(mylist), 'números.')"
   ]
  },
  {
   "cell_type": "code",
   "execution_count": 7,
   "id": "5e484edf",
   "metadata": {},
   "outputs": [
    {
     "name": "stdout",
     "output_type": "stream",
     "text": [
      "El número 3 aparece 2 veces.\n"
     ]
    }
   ],
   "source": [
    "#Quantes vegades apareix el número 3.\n",
    "\n",
    "x = mylist.count(3)\n",
    "print ('El número 3 aparece',x, 'veces.')"
   ]
  },
  {
   "cell_type": "code",
   "execution_count": 8,
   "id": "0dae10b3",
   "metadata": {},
   "outputs": [
    {
     "name": "stdout",
     "output_type": "stream",
     "text": [
      "Los números 3 y 4 aparecen 5 veces en total.\n"
     ]
    }
   ],
   "source": [
    "#Quantes vegades apareixen els nombres 3 i 4?\n",
    "\n",
    "a = mylist.count(3) \n",
    "b = mylist.count(4)\n",
    "c = a+b\n",
    "\n",
    "print('Los números 3 y 4 aparecen', c, 'veces en total.')"
   ]
  },
  {
   "cell_type": "code",
   "execution_count": 9,
   "id": "150f672a",
   "metadata": {},
   "outputs": [
    {
     "name": "stdout",
     "output_type": "stream",
     "text": [
      "El número más grande de la lista es:  12\n"
     ]
    }
   ],
   "source": [
    "#Quin és el número més gran?\n",
    "print('El número más grande de la lista es: ', max(mylist))"
   ]
  },
  {
   "cell_type": "code",
   "execution_count": 10,
   "id": "37245d72",
   "metadata": {},
   "outputs": [
    {
     "name": "stdout",
     "output_type": "stream",
     "text": [
      "Los 3 numeros más pequeños son: [0, 1, 2]\n"
     ]
    }
   ],
   "source": [
    "#Quins són els 3 números més petits?\n",
    "\n",
    "mylist.sort()\n",
    "print('Los 3 numeros más pequeños son:',mylist[:3])\n"
   ]
  },
  {
   "cell_type": "code",
   "execution_count": 11,
   "id": "47365d32",
   "metadata": {},
   "outputs": [
    {
     "name": "stdout",
     "output_type": "stream",
     "text": [
      "El rango de la lista es 12\n"
     ]
    }
   ],
   "source": [
    "#Quin és el rang d’aquesta llista?\n",
    "menor = min(mylist)\n",
    "mayor = max (mylist)\n",
    "print('El rango de la lista es', mayor - menor)"
   ]
  },
  {
   "cell_type": "markdown",
   "id": "b1fd65ca",
   "metadata": {},
   "source": [
    "## - Exercici 4\n",
    "Crea un diccionari de la següent forma i respon a les preguntes:"
   ]
  },
  {
   "cell_type": "code",
   "execution_count": 12,
   "id": "bfbbf516",
   "metadata": {},
   "outputs": [
    {
     "name": "stdout",
     "output_type": "stream",
     "text": [
      "{'Pomes': {'Qty': 5, '€': 0.42}, 'Peres': {'Qty': 3, '€': 0.66}}\n"
     ]
    }
   ],
   "source": [
    "compra = { \"Pomes\" : {\"Qty\": 5, \"€\": 0.42}, \"Peres\" : {\"Qty\": 3, \"€\": 0.66} }\n",
    "print (compra)"
   ]
  },
  {
   "cell_type": "code",
   "execution_count": 13,
   "id": "2beaf852",
   "metadata": {},
   "outputs": [
    {
     "name": "stdout",
     "output_type": "stream",
     "text": [
      "{'Pomes': {'Qty': 5, '€': 0.42}, 'Peres': {'Qty': 3, '€': 0.66}, 'mandarines': {'Qty': 8, '€': 0.28}}\n"
     ]
    },
    {
     "data": {
      "text/plain": [
       "dict_keys(['Pomes', 'Peres', 'mandarines'])"
      ]
     },
     "execution_count": 13,
     "metadata": {},
     "output_type": "execute_result"
    }
   ],
   "source": [
    "#Afegeix alguna fruita més\n",
    "\n",
    "compra[\"mandarines\"] = {\"Qty\" : 8, \"€\" : 0.28 }\n",
    "print(compra)\n",
    "compra.keys()"
   ]
  },
  {
   "cell_type": "code",
   "execution_count": 14,
   "id": "3e84af32",
   "metadata": {},
   "outputs": [
    {
     "name": "stdout",
     "output_type": "stream",
     "text": [
      "Las peras costaron 1.98 €.\n"
     ]
    }
   ],
   "source": [
    "#Quant han costat les peres en total?\n",
    "precio_peras = compra[\"Peres\"][\"Qty\"] * compra[\"Peres\"][\"€\"] \n",
    "print('Las peras costaron', precio_peras, '€.')\n"
   ]
  },
  {
   "cell_type": "code",
   "execution_count": 18,
   "id": "adca0103",
   "metadata": {},
   "outputs": [
    {
     "name": "stdout",
     "output_type": "stream",
     "text": [
      "La cantidad de fruta total es de 16\n"
     ]
    }
   ],
   "source": [
    "#Quantes fruites hem comprat en total?\n",
    "\n",
    "total = sum(x[\"Qty\"]for x in compra.values())\n",
    "print('La cantidad de fruta total es de', total)\n"
   ]
  },
  {
   "cell_type": "code",
   "execution_count": 16,
   "id": "aee82f4c",
   "metadata": {},
   "outputs": [
    {
     "data": {
      "text/plain": [
       "3"
      ]
     },
     "execution_count": 16,
     "metadata": {},
     "output_type": "execute_result"
    }
   ],
   "source": [
    "#Cantidad de fruta en variedad\n",
    "len(compra.keys())"
   ]
  },
  {
   "cell_type": "code",
   "execution_count": 21,
   "id": "6c3c06b4",
   "metadata": {},
   "outputs": [
    {
     "name": "stdout",
     "output_type": "stream",
     "text": [
      "La fruta más cara es Peres con un precio de 0.66\n"
     ]
    }
   ],
   "source": [
    "#Quina és la fruita més cara?\n",
    "\n",
    "fruta_más_cara = max(x[\"€\"] for x in compra.values())\n",
    "fruta = max(compra.keys(), key= lambda x: compra[x][\"€\"])\n",
    "print('La fruta más cara es',fruta,'con un precio de',fruta_más_cara)"
   ]
  }
 ],
 "metadata": {
  "kernelspec": {
   "display_name": "Python 3 (ipykernel)",
   "language": "python",
   "name": "python3"
  },
  "language_info": {
   "codemirror_mode": {
    "name": "ipython",
    "version": 3
   },
   "file_extension": ".py",
   "mimetype": "text/x-python",
   "name": "python",
   "nbconvert_exporter": "python",
   "pygments_lexer": "ipython3",
   "version": "3.9.12"
  }
 },
 "nbformat": 4,
 "nbformat_minor": 5
}
